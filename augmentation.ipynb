{
 "cells": [
  {
   "cell_type": "code",
   "execution_count": 19,
   "metadata": {},
   "outputs": [],
   "source": [
    "label = \"RelativeChangeValue\""
   ]
  },
  {
   "cell_type": "code",
   "execution_count": 20,
   "metadata": {},
   "outputs": [],
   "source": [
    "using_colab = False"
   ]
  },
  {
   "cell_type": "code",
   "execution_count": 21,
   "metadata": {},
   "outputs": [],
   "source": [
    "if using_colab:\n",
    "    from google.colab import drive\n",
    "\n",
    "    drive.mount(\"/content/drive\", force_remount=True)"
   ]
  },
  {
   "cell_type": "code",
   "execution_count": 22,
   "metadata": {},
   "outputs": [],
   "source": [
    "import torch\n",
    "import torch.nn as nn\n",
    "import numpy as np\n",
    "import importlib\n",
    "import json\n",
    "import random\n",
    "import os\n",
    "import re\n",
    "from importlib import reload"
   ]
  },
  {
   "cell_type": "code",
   "execution_count": 23,
   "metadata": {},
   "outputs": [],
   "source": [
    "if using_colab:\n",
    "    dir_path = (\n",
    "        \"drive/Othercomputers/my_computer/dl-nlp_project_named-entity-recognition/\"\n",
    "    )\n",
    "    # dir_path = \"drive/MyDrive/dl-nlp_project_named-entity-recognition/\"\n",
    "    module_path = dir_path.replace(\"/\", \".\")\n",
    "    # imports\n",
    "    data_module = importlib.import_module(module_path + \"data\")\n",
    "    load_data = data_module.load_data\n",
    "    extract_sentences_and_labels = data_module.extract_sentences_and_labels\n",
    "    generate_label_vocab = data_module.generate_label_vocab\n",
    "    split_data = data_module.split_data\n",
    "\n",
    "else:\n",
    "    dir_path = \"./\"\n",
    "    from data import (\n",
    "        load_data,\n",
    "        extract_sentences_and_labels,\n",
    "        generate_label_vocab,\n",
    "        split_data,\n",
    "    )"
   ]
  },
  {
   "cell_type": "code",
   "execution_count": 24,
   "metadata": {},
   "outputs": [],
   "source": [
    "train_file_path = dir_path + \"data/train.json\"\n",
    "test_file_path = dir_path + \"data/test.json\""
   ]
  },
  {
   "cell_type": "code",
   "execution_count": 25,
   "metadata": {},
   "outputs": [],
   "source": [
    "train_data, test_data = load_data(train_file_path, test_file_path)\n",
    "train_sentences, train_raw_labels = extract_sentences_and_labels(train_data)\n",
    "test_sentences, test_raw_labels = extract_sentences_and_labels(test_data)\n",
    "\n",
    "# Generate label vocabulary\n",
    "label_vocab = generate_label_vocab(train_raw_labels + test_raw_labels)"
   ]
  },
  {
   "cell_type": "code",
   "execution_count": 26,
   "metadata": {},
   "outputs": [
    {
     "name": "stdout",
     "output_type": "stream",
     "text": [
      "['Frequency', 'NumberPatientsCT', 'SubGroupDescription', 'ObservedResult', 'DoseDescription', 'TimePoint', 'ObjectiveDescription', 'FinalNumPatientsArm', 'AllocationRatio', 'CTDesign', 'MinAge', 'NumberAffected', 'AggregationMethod', 'PublicationYear', 'SdDevResValue', 'NumberPatientsArm', 'Author', 'SdDevBL', 'PValueChangeValue', 'AvgAge', 'Journal', 'DoseValue', 'ConfIntervalDiff', 'RelativeChangeValue', 'PvalueDiff', 'DiffGroupAbsValue', 'ConclusionComment', 'PercentageAffected', 'Country', 'Drug', 'SdDevChangeValue', 'Title', 'Precondition', 'ConfIntervalChangeValue', 'PMID', 'ResultMeasuredValue', '<SPC>']\n"
     ]
    },
    {
     "data": {
      "text/plain": [
       "37"
      ]
     },
     "execution_count": 26,
     "metadata": {},
     "output_type": "execute_result"
    }
   ],
   "source": [
    "SPECIAL_TOKEN = \"<SPC>\"\n",
    "\n",
    "\n",
    "class Labels:\n",
    "    def __init__(self, num_classes, names):\n",
    "        super().__init__()\n",
    "        self.names = names\n",
    "        print(self.names)\n",
    "        self.num_classes = num_classes\n",
    "\n",
    "    def __getitem__(self, label_vector):\n",
    "        return [self.names[idx] for idx, value in enumerate(label_vector) if value == 1]\n",
    "\n",
    "    def decode(self, label_vector):\n",
    "        return self.__getitem__(label_vector)\n",
    "\n",
    "    def encode(self, names):\n",
    "        indexes = []\n",
    "        for name in names:\n",
    "            index = self.names.index(name)\n",
    "            indexes.append(index)\n",
    "        tensor = torch.zeros(self.num_classes)\n",
    "        for index in indexes:\n",
    "            tensor[index] = 1\n",
    "        return tensor\n",
    "\n",
    "    def tensor2sentence(self, tensor):\n",
    "        return [self.decode(vector) for vector in tensor]\n",
    "\n",
    "\n",
    "ner_labels = Labels(\n",
    "    num_classes=len(label_vocab) + 1, names=label_vocab + [SPECIAL_TOKEN]\n",
    ")\n",
    "id2label = ner_labels.decode\n",
    "label2id = ner_labels.encode\n",
    "ner_labels.num_classes"
   ]
  },
  {
   "cell_type": "code",
   "execution_count": 27,
   "metadata": {},
   "outputs": [],
   "source": [
    "def extract_sentences(json_file_path):\n",
    "    with open(json_file_path, \"r\") as file:\n",
    "        data = json.load(file)\n",
    "\n",
    "    sentences = []\n",
    "\n",
    "    for entry in data:\n",
    "        for sentence in entry[\"sentences\"]:\n",
    "            tokens = sentence[\"words\"]\n",
    "\n",
    "            entities = sentence[\"entities\"]\n",
    "            labels_list = [torch.zeros(ner_labels.num_classes) for x in tokens]\n",
    "            for label_entity in entities:\n",
    "                start_pos = label_entity[\"start_pos\"]\n",
    "                end_pos = label_entity[\"end_pos\"]\n",
    "                label = label_entity[\"label\"]\n",
    "                label_id = label2id([label]).argmax().item()\n",
    "                for label_index in range(start_pos, end_pos + 1):\n",
    "                    labels_list[label_index][label_id] = 1\n",
    "            sentence[\"tokens\"] = tokens\n",
    "            sentence[\"labels_list\"] = labels_list\n",
    "            sentences.append(sentence)\n",
    "\n",
    "    return [x[\"tokens\"] for x in sentences], [x[\"labels_list\"] for x in sentences]"
   ]
  },
  {
   "cell_type": "code",
   "execution_count": 28,
   "metadata": {},
   "outputs": [
    {
     "name": "stdout",
     "output_type": "stream",
     "text": [
      "1300 1300\n",
      "145 145\n",
      "385 385\n"
     ]
    }
   ],
   "source": [
    "train_sentences, train_labels = extract_sentences(train_file_path)\n",
    "test_sentences, test_labels = extract_sentences(test_file_path)\n",
    "train_sentences, train_labels, val_sentences, val_labels = split_data(\n",
    "    train_sentences, train_labels\n",
    ")\n",
    "\n",
    "print(len(train_sentences), len(train_labels))\n",
    "print(len(val_sentences), len(val_labels))\n",
    "print(len(test_sentences), len(test_labels))"
   ]
  },
  {
   "cell_type": "code",
   "execution_count": 29,
   "metadata": {},
   "outputs": [],
   "source": [
    "data_file_name = f\"{dir_path}data/labels/{label}.json\"\n",
    "if os.path.exists(data_file_name):\n",
    "    with open(data_file_name, \"r\") as json_file:\n",
    "        data = json.load(json_file)\n",
    "else:\n",
    "    data = {\n",
    "        \"sentences\": [],\n",
    "        \"labels_lists\": [],\n",
    "    }"
   ]
  },
  {
   "cell_type": "code",
   "execution_count": 30,
   "metadata": {},
   "outputs": [],
   "source": [
    "label_abbreviations = {\n",
    "    \"ObjectiveDescription\": \"OD\",\n",
    "    \"Precondition\": \"PC\",\n",
    "    \"RelativeChangeValue\": \"RCV\",\n",
    "}\n",
    "label_unabbreviations = {v: k for k, v in label_abbreviations.items()}"
   ]
  },
  {
   "cell_type": "code",
   "execution_count": 32,
   "metadata": {},
   "outputs": [
    {
     "name": "stdout",
     "output_type": "stream",
     "text": [
      "1\n"
     ]
    }
   ],
   "source": [
    "examples = []\n",
    "examples_with_labels = []\n",
    "for sentence, labels_list in zip(train_sentences, train_labels):\n",
    "    new_sentence = sentence\n",
    "    found = False\n",
    "    for i, (token, labels) in enumerate(zip(sentence, labels_list)):\n",
    "        if label in id2label(labels):\n",
    "            found = True\n",
    "            if not new_sentence[i].startswith(\"!!\"):\n",
    "                new_sentence[i] = f\"!!{token}!!\"\n",
    "    if found:\n",
    "        # print(\" \".join(new_sentence))\n",
    "        words = []\n",
    "        for word, labels in zip(sentence, labels_list):\n",
    "            # print(id2label(labels), word)\n",
    "            abbreviated_labels = [\n",
    "                label_abbreviations[label] if label in label_abbreviations else label\n",
    "                for label in id2label(labels)\n",
    "            ]\n",
    "            words.append(f\"{word} {abbreviated_labels}\")\n",
    "        # print(words)\n",
    "        # print()\n",
    "        examples.append(new_sentence)\n",
    "        examples_with_labels.append(words)\n",
    "\n",
    "print(len(examples))"
   ]
  },
  {
   "cell_type": "code",
   "execution_count": 33,
   "metadata": {},
   "outputs": [
    {
     "name": "stdout",
     "output_type": "stream",
     "text": [
      "Postintervention , the MET group had a !!35!! % improvement in insulin sensitivity ( WBISI ) compared with the placebo group ( p = 0 . 008 ) .\n",
      "['Postintervention []', ', []', 'the []', 'MET []', 'group []', 'had []', 'a []', \"!!35!! ['RCV']\", '% []', 'improvement []', 'in []', 'insulin []', 'sensitivity []', '( []', 'WBISI []', ') []', 'compared []', 'with []', 'the []', 'placebo []', 'group []', '( []', \"p ['PvalueDiff']\", \"= ['PvalueDiff']\", \"0 ['PvalueDiff']\", \". ['PvalueDiff']\", \"008 ['PvalueDiff']\", ') []', '. []']\n",
      "\n"
     ]
    }
   ],
   "source": [
    "example_count = 5\n",
    "\n",
    "for i in range(min(example_count, len(examples))):\n",
    "    index = random.randint(0, len(examples) - 1)\n",
    "    print(\" \".join(examples[index]))\n",
    "    print(examples_with_labels[index])\n",
    "    print()"
   ]
  },
  {
   "cell_type": "code",
   "execution_count": 34,
   "metadata": {},
   "outputs": [
    {
     "name": "stdout",
     "output_type": "stream",
     "text": [
      "['After', 'the', 'intervention', ',', 'the', 'MET', 'group', 'exhibited', 'a', '35', '%', 'enhancement', 'in', 'insulin', 'sensitivity', '(', 'measured', 'as', 'WBISI', ')', 'when', 'compared', 'to', 'the', 'placebo', 'group', '(', 'p', '=', '0', '.', '008', ')', '.']\n",
      "[[], [], [], [], [], [], [], [], [], ['RelativeChangeValue'], [], [], [], [], [], [], [], [], [], [], [], [], [], [], [], [], [], ['PvalueDiff'], ['PvalueDiff'], ['PvalueDiff'], ['PvalueDiff'], ['PvalueDiff'], [], []]\n",
      "['Upon', 'completion', 'of', 'the', 'intervention', ',', 'the', 'MET', 'group', 'showed', 'a', 'significant', '35', '%', 'increase', 'in', 'insulin', 'sensitivity', '(', 'WBISI', ')', 'relative', 'to', 'the', 'placebo', 'group', '(', 'p', '=', '0', '.', '008', ')', '.']\n",
      "[[], [], [], [], [], [], [], [], [], [], [], [], ['RelativeChangeValue'], [], [], [], [], [], [], [], [], [], [], [], [], [], [], ['PvalueDiff'], ['PvalueDiff'], ['PvalueDiff'], ['PvalueDiff'], ['PvalueDiff'], [], []]\n",
      "['Following', 'the', 'intervention', 'period', ',', 'there', 'was', 'a', '35', '%', 'boost', 'in', 'insulin', 'sensitivity', '(', 'WBISI', ')', 'in', 'the', 'MET', 'group', 'as', 'opposed', 'to', 'the', 'placebo', 'group', '(', 'p', '=', '0', '.', '008', ')', '.']\n",
      "[[], [], [], [], [], [], [], [], ['RelativeChangeValue'], [], [], [], [], [], [], [], [], [], [], [], [], [], [], [], [], [], [], [], ['PvalueDiff'], ['PvalueDiff'], ['PvalueDiff'], ['PvalueDiff'], ['PvalueDiff'], [], []]\n"
     ]
    }
   ],
   "source": [
    "import ast\n",
    "\n",
    "input_text = input(\"Input: \")\n",
    "sentences = input_text.strip().split(\"  \")\n",
    "for sentence in sentences:\n",
    "    tokens = []\n",
    "    labels_list = []\n",
    "    sentence = sentence.replace(\"'\", '\"')\n",
    "    matches = re.findall(r\"\\[\\\"\\w*\\\", \\\"\\w*\\\"]\", sentence)  # find double labels\n",
    "    for match in matches:\n",
    "        sentence = sentence.replace(match, match.replace('\"', \"'\"))\n",
    "        break\n",
    "    token_pairs = sentence[sentence.index(\"[\") + 1 : -1].split('\", \"')\n",
    "    for token_pair in token_pairs:\n",
    "        token, labels_str = token_pair.split(\" \", 1)\n",
    "        token = token.strip('\"')\n",
    "        token = token.strip(\"!!\")\n",
    "        # TODO split up hyphonenated tokens\n",
    "        labels_str = labels_str.strip('\"')\n",
    "\n",
    "        labels = ast.literal_eval(labels_str)\n",
    "        labels = [\n",
    "            label_unabbreviations[label] if label in label_unabbreviations else label\n",
    "            for label in labels\n",
    "        ]\n",
    "\n",
    "        tokens.append(token)\n",
    "        labels_list.append(labels)\n",
    "    print(tokens)\n",
    "    print(labels_list)\n",
    "    data[\"sentences\"].append(tokens)\n",
    "    data[\"labels_lists\"].append(labels_list)"
   ]
  },
  {
   "cell_type": "code",
   "execution_count": 36,
   "metadata": {},
   "outputs": [
    {
     "name": "stdout",
     "output_type": "stream",
     "text": [
      "./data/labels/RelativeChangeValue.json was updated.\n"
     ]
    }
   ],
   "source": [
    "data_file_name = f\"{dir_path}data/labels/{label}.json\"\n",
    "with open(data_file_name, \"w\") as json_file:\n",
    "    json.dump(data, json_file, indent=2)\n",
    "    print(f\"{data_file_name} was updated.\")"
   ]
  }
 ],
 "metadata": {
  "kernelspec": {
   "display_name": "NLP",
   "language": "python",
   "name": "python3"
  },
  "language_info": {
   "codemirror_mode": {
    "name": "ipython",
    "version": 3
   },
   "file_extension": ".py",
   "mimetype": "text/x-python",
   "name": "python",
   "nbconvert_exporter": "python",
   "pygments_lexer": "ipython3",
   "version": "3.10.11"
  },
  "orig_nbformat": 4
 },
 "nbformat": 4,
 "nbformat_minor": 2
}
