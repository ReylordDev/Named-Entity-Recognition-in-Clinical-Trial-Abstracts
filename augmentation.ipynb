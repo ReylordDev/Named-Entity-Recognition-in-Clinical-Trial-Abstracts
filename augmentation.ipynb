{
 "cells": [
  {
   "cell_type": "code",
   "execution_count": null,
   "metadata": {},
   "outputs": [],
   "source": [
    "from google.colab import drive\n",
    "\n",
    "drive.mount(\"/content/drive\", force_remount=True)"
   ]
  },
  {
   "cell_type": "code",
   "execution_count": 2,
   "metadata": {},
   "outputs": [],
   "source": [
    "import torch\n",
    "import torch.nn as nn\n",
    "import numpy as np\n",
    "import importlib\n",
    "import json\n",
    "import random\n",
    "import os\n",
    "import re\n",
    "from importlib import reload"
   ]
  },
  {
   "cell_type": "code",
   "execution_count": null,
   "metadata": {},
   "outputs": [],
   "source": [
    "# If you are using Colab\n",
    "\n",
    "dir_path = \"drive/Othercomputers/my_computer/dl-nlp_project_named-entity-recognition/\"\n",
    "# dir_path = \"drive/MyDrive/dl-nlp_project_named-entity-recognition/\"\n",
    "module_path = dir_path.replace(\"/\", \".\")\n",
    "# imports\n",
    "data_module = importlib.import_module(module_path + \"data\")\n",
    "load_data = data_module.load_data\n",
    "extract_sentences_and_labels = data_module.extract_sentences_and_labels\n",
    "generate_label_vocab = data_module.generate_label_vocab\n",
    "split_data = data_module.split_data"
   ]
  },
  {
   "cell_type": "code",
   "execution_count": 50,
   "metadata": {},
   "outputs": [],
   "source": [
    "# If you are using local machine\n",
    "from data import (\n",
    "    load_data,\n",
    "    extract_sentences_and_labels,\n",
    "    generate_label_vocab,\n",
    "    split_data,\n",
    ")\n",
    "\n",
    "dir_path = \"./\""
   ]
  },
  {
   "cell_type": "code",
   "execution_count": 51,
   "metadata": {},
   "outputs": [],
   "source": [
    "train_file_path = dir_path + \"data/train.json\"\n",
    "test_file_path = dir_path + \"data/test.json\""
   ]
  },
  {
   "cell_type": "code",
   "execution_count": 52,
   "metadata": {},
   "outputs": [],
   "source": [
    "train_data, test_data = load_data(train_file_path, test_file_path)\n",
    "train_sentences, train_raw_labels = extract_sentences_and_labels(train_data)\n",
    "test_sentences, test_raw_labels = extract_sentences_and_labels(test_data)\n",
    "\n",
    "# Generate label vocabulary\n",
    "label_vocab = generate_label_vocab(train_raw_labels + test_raw_labels)"
   ]
  },
  {
   "cell_type": "code",
   "execution_count": 53,
   "metadata": {},
   "outputs": [
    {
     "name": "stdout",
     "output_type": "stream",
     "text": [
      "['ObjectiveDescription', 'Precondition', 'ResultMeasuredValue', 'DoseDescription', 'DoseValue', 'NumberPatientsCT', 'NumberPatientsArm', 'Frequency', 'NumberAffected', 'Author', 'Drug', 'ConfIntervalChangeValue', 'ConclusionComment', 'AvgAge', 'DiffGroupAbsValue', 'MinAge', 'TimePoint', 'PvalueDiff', 'PMID', 'ConfIntervalDiff', 'PercentageAffected', 'CTDesign', 'FinalNumPatientsArm', 'Journal', 'PValueChangeValue', 'AllocationRatio', 'Title', 'RelativeChangeValue', 'Country', 'SdDevBL', 'AggregationMethod', 'PublicationYear', 'SdDevChangeValue', 'ObservedResult', 'SubGroupDescription', 'SdDevResValue', '<SPC>']\n"
     ]
    },
    {
     "data": {
      "text/plain": [
       "37"
      ]
     },
     "execution_count": 53,
     "metadata": {},
     "output_type": "execute_result"
    }
   ],
   "source": [
    "SPECIAL_TOKEN = \"<SPC>\"\n",
    "\n",
    "\n",
    "class Labels:\n",
    "    def __init__(self, num_classes, names):\n",
    "        super().__init__()\n",
    "        self.names = names\n",
    "        print(self.names)\n",
    "        self.num_classes = num_classes\n",
    "\n",
    "    def __getitem__(self, label_vector):\n",
    "        return [self.names[idx] for idx, value in enumerate(label_vector) if value == 1]\n",
    "\n",
    "    def decode(self, label_vector):\n",
    "        return self.__getitem__(label_vector)\n",
    "\n",
    "    def encode(self, names):\n",
    "        indexes = []\n",
    "        for name in names:\n",
    "            index = self.names.index(name)\n",
    "            indexes.append(index)\n",
    "        tensor = torch.zeros(self.num_classes)\n",
    "        for index in indexes:\n",
    "            tensor[index] = 1\n",
    "        return tensor\n",
    "\n",
    "    def tensor2sentence(self, tensor):\n",
    "        return [self.decode(vector) for vector in tensor]\n",
    "\n",
    "\n",
    "ner_labels = Labels(\n",
    "    num_classes=len(label_vocab) + 1, names=label_vocab + [SPECIAL_TOKEN]\n",
    ")\n",
    "id2label = ner_labels.decode\n",
    "label2id = ner_labels.encode\n",
    "ner_labels.num_classes"
   ]
  },
  {
   "cell_type": "code",
   "execution_count": 54,
   "metadata": {},
   "outputs": [],
   "source": [
    "def extract_sentences(json_file_path):\n",
    "    with open(json_file_path, \"r\") as file:\n",
    "        data = json.load(file)\n",
    "\n",
    "    sentences = []\n",
    "\n",
    "    for entry in data:\n",
    "        for sentence in entry[\"sentences\"]:\n",
    "            tokens = sentence[\"words\"]\n",
    "\n",
    "            entities = sentence[\"entities\"]\n",
    "            labels_list = [torch.zeros(ner_labels.num_classes) for x in tokens]\n",
    "            for label_entity in entities:\n",
    "                start_pos = label_entity[\"start_pos\"]\n",
    "                end_pos = label_entity[\"end_pos\"]\n",
    "                label = label_entity[\"label\"]\n",
    "                for label_index in range(start_pos, end_pos + 1):\n",
    "                    # this needs to be changed as well, see below\n",
    "                    labels_list[label_index] = label2id([label])\n",
    "            sentence[\"tokens\"] = tokens\n",
    "            sentence[\"labels_list\"] = labels_list\n",
    "            sentences.append(sentence)\n",
    "\n",
    "    return [x[\"tokens\"] for x in sentences], [x[\"labels_list\"] for x in sentences]"
   ]
  },
  {
   "cell_type": "code",
   "execution_count": 55,
   "metadata": {},
   "outputs": [
    {
     "name": "stdout",
     "output_type": "stream",
     "text": [
      "1300 1300\n",
      "145 145\n",
      "385 385\n"
     ]
    }
   ],
   "source": [
    "train_sentences, train_labels = extract_sentences(train_file_path)\n",
    "test_sentences, test_labels = extract_sentences(test_file_path)\n",
    "train_sentences, train_labels, val_sentences, val_labels = split_data(\n",
    "    train_sentences, train_labels\n",
    ")\n",
    "\n",
    "print(len(train_sentences), len(train_labels))\n",
    "print(len(val_sentences), len(val_labels))\n",
    "print(len(test_sentences), len(test_labels))"
   ]
  },
  {
   "cell_type": "code",
   "execution_count": 18,
   "metadata": {},
   "outputs": [],
   "source": [
    "label = \"CTDesign\"\n",
    "examples = []\n",
    "examples_with_labels = []\n",
    "for sentence, labels_list in zip(train_sentences, train_labels):\n",
    "    new_sentence = sentence\n",
    "    found = False\n",
    "    for i, (token, labels) in enumerate(zip(sentence, labels_list)):\n",
    "        if label in id2label(labels):\n",
    "            found = True\n",
    "            if not new_sentence[i].startswith(\"!!\"):\n",
    "                new_sentence[i] = f\"!!{token}!!\"\n",
    "    if found:\n",
    "        # print(\" \".join(new_sentence))\n",
    "        words = []\n",
    "        for word, labels in zip(sentence, labels_list):\n",
    "            # print(id2label(labels), word)\n",
    "            words.append(f\"{word} {id2label(labels)}\")\n",
    "        # print(words)\n",
    "        # print()\n",
    "        examples.append(new_sentence)\n",
    "        examples_with_labels.append(words)"
   ]
  },
  {
   "cell_type": "code",
   "execution_count": 58,
   "metadata": {},
   "outputs": [
    {
     "name": "stdout",
     "output_type": "stream",
     "text": [
      "METHODS : This was a multinational , 52 - week , openlabel , parallel - group , !!noninferiority!! , !!treat!! !!-!! !!to!! !!-!! !!target!! trial .\n",
      "['METHODS []', ': []', 'This []', 'was []', 'a []', 'multinational []', ', []', '52 []', '- []', 'week []', ', []', 'openlabel []', ', []', 'parallel []', '- []', 'group []', ', []', \"!!noninferiority!! ['CTDesign']\", ', []', \"!!treat!! ['CTDesign']\", \"!!-!! ['CTDesign']\", \"!!to!! ['CTDesign']\", \"!!-!! ['CTDesign']\", \"!!target!! ['CTDesign']\", 'trial []', '. []']\n",
      "\n",
      "OBJECTIVE : This multicenter , double - blind , !!treat!! !!-!! !!to!! !!-!! !!target!! , phase 3 trial evaluated the efficacy and safety of fast - acting insulin aspart ( faster aspart ) versus insulin aspart ( IAsp ) in adults with type 2 diabetes receiving basal insulin and oral antidiabetic agents .\n",
      "['OBJECTIVE []', ': []', \"This ['ObjectiveDescription']\", \"multicenter ['ObjectiveDescription']\", \", ['ObjectiveDescription']\", \"double ['ObjectiveDescription']\", \"- ['ObjectiveDescription']\", \"blind ['ObjectiveDescription']\", \", ['ObjectiveDescription']\", \"!!treat!! ['CTDesign']\", \"!!-!! ['CTDesign']\", \"!!to!! ['CTDesign']\", \"!!-!! ['CTDesign']\", \"!!target!! ['CTDesign']\", \", ['ObjectiveDescription']\", \"phase ['ObjectiveDescription']\", \"3 ['ObjectiveDescription']\", \"trial ['ObjectiveDescription']\", \"evaluated ['ObjectiveDescription']\", \"the ['ObjectiveDescription']\", \"efficacy ['ObjectiveDescription']\", \"and ['ObjectiveDescription']\", \"safety ['ObjectiveDescription']\", \"of ['ObjectiveDescription']\", \"fast ['ObjectiveDescription']\", \"- ['ObjectiveDescription']\", \"acting ['ObjectiveDescription']\", \"insulin ['ObjectiveDescription']\", \"aspart ['ObjectiveDescription']\", \"( ['ObjectiveDescription']\", \"faster ['ObjectiveDescription']\", \"aspart ['ObjectiveDescription']\", \") ['ObjectiveDescription']\", \"versus ['ObjectiveDescription']\", \"insulin ['ObjectiveDescription']\", \"aspart ['ObjectiveDescription']\", \"( ['ObjectiveDescription']\", \"IAsp ['ObjectiveDescription']\", \") ['ObjectiveDescription']\", \"in ['ObjectiveDescription']\", \"adults ['ObjectiveDescription']\", \"with ['ObjectiveDescription']\", \"type ['ObjectiveDescription']\", \"2 ['ObjectiveDescription']\", \"diabetes ['ObjectiveDescription']\", \"receiving ['ObjectiveDescription']\", \"basal ['ObjectiveDescription']\", \"insulin ['ObjectiveDescription']\", \"and ['ObjectiveDescription']\", \"oral ['ObjectiveDescription']\", \"antidiabetic ['ObjectiveDescription']\", \"agents ['ObjectiveDescription']\", \". ['ObjectiveDescription']\"]\n",
      "\n",
      "A randomized , double - blind , !!non!! !!-!! !!inferiority!! trial evaluating the efficacy and safety of omarigliptin , a once - weekly DPP - 4 inhibitor , or glimepiride in patients with type 2 diabetes inadequately controlled on metformin monotherapy .\n",
      "[\"A ['Title']\", \"randomized ['Title']\", \", ['Title']\", \"double ['Title']\", \"- ['Title']\", \"blind ['Title']\", \", ['Title']\", \"!!non!! ['CTDesign']\", \"!!-!! ['CTDesign']\", \"!!inferiority!! ['CTDesign']\", \"trial ['Title']\", \"evaluating ['Title']\", \"the ['Title']\", \"efficacy ['Title']\", \"and ['Title']\", \"safety ['Title']\", \"of ['Title']\", \"omarigliptin ['Title']\", \", ['Title']\", \"a ['Title']\", \"once ['Title']\", \"- ['Title']\", \"weekly ['Title']\", \"DPP ['Title']\", \"- ['Title']\", \"4 ['Title']\", \"inhibitor ['Title']\", \", ['Title']\", \"or ['Title']\", \"glimepiride ['Title']\", \"in ['Title']\", \"patients ['Title']\", \"with ['Title']\", \"type ['Title']\", \"2 ['Title']\", \"diabetes ['Title']\", \"inadequately ['Title']\", \"controlled ['Title']\", \"on ['Title']\", \"metformin ['Title']\", \"monotherapy ['Title']\", \". ['Title']\"]\n",
      "\n",
      "METHODS : This was a multinational , 52 - week , openlabel , parallel - group , !!noninferiority!! , !!treat!! !!-!! !!to!! !!-!! !!target!! trial .\n",
      "['METHODS []', ': []', 'This []', 'was []', 'a []', 'multinational []', ', []', '52 []', '- []', 'week []', ', []', 'openlabel []', ', []', 'parallel []', '- []', 'group []', ', []', \"!!noninferiority!! ['CTDesign']\", ', []', \"!!treat!! ['CTDesign']\", \"!!-!! ['CTDesign']\", \"!!to!! ['CTDesign']\", \"!!-!! ['CTDesign']\", \"!!target!! ['CTDesign']\", 'trial []', '. []']\n",
      "\n",
      "Research design and methods This was a 24 week , prospective , randomized , open - label , !!active!! !!-!! !!controlled!! study .\n",
      "['Research []', 'design []', 'and []', 'methods []', 'This []', 'was []', 'a []', '24 []', 'week []', ', []', 'prospective []', ', []', 'randomized []', ', []', 'open []', '- []', 'label []', ', []', \"!!active!! ['CTDesign']\", \"!!-!! ['CTDesign']\", \"!!controlled!! ['CTDesign']\", 'study []', '. []']\n",
      "\n"
     ]
    }
   ],
   "source": [
    "example_count = 5\n",
    "\n",
    "for i in range(min(example_count, len(examples))):\n",
    "    index = random.randint(0, len(examples) - 1)\n",
    "    print(\" \".join(examples[index]))\n",
    "    print(examples_with_labels[index])\n",
    "    print()"
   ]
  },
  {
   "cell_type": "code",
   "execution_count": null,
   "metadata": {},
   "outputs": [],
   "source": [
    "new_data = {}\n",
    "new_data[\"sentences\"] = []\n",
    "new_data[\"labels_lists\"] = []"
   ]
  },
  {
   "cell_type": "code",
   "execution_count": null,
   "metadata": {},
   "outputs": [],
   "source": [
    "# TODO: Set up the workflow to also retrieve the labels\n",
    "input_text = input(\"Input: \")\n",
    "sentences = input_text.strip().split(\"      \")\n",
    "for sentence in sentences:\n",
    "    tokenized_words = re.findall(r\"\\b\\w+\\b|-|!!.*?!!|[,.:]\", sentence)\n",
    "    words = [\n",
    "        word\n",
    "        if not word.startswith(\"!!\") and not word.endswith(\"!!\")\n",
    "        else word.strip(\"!\")\n",
    "        for word in tokenized_words\n",
    "    ]\n",
    "    labels_list = [\n",
    "        [\"ObjectiveDescription\"]\n",
    "        if not word.startswith(\"!!\") and not word.endswith(\"!!\")\n",
    "        else [\"ObjectiveDescription\", label]\n",
    "        for word in tokenized_words\n",
    "    ]\n",
    "    # print(words)\n",
    "    # print(labels_list)\n",
    "    new_data[\"sentences\"].append(words)\n",
    "    new_data[\"labels_lists\"].append(labels_list)"
   ]
  },
  {
   "cell_type": "code",
   "execution_count": null,
   "metadata": {},
   "outputs": [],
   "source": [
    "data_file_name = f\"{dir_path}data/labels/{label}.json\"\n",
    "with open(data_file_name, \"w\") as json_file:\n",
    "    json.dump(new_data, json_file, indent=4)\n",
    "    print(f\"{data_file_name} was updated.\")"
   ]
  }
 ],
 "metadata": {
  "kernelspec": {
   "display_name": "NLP",
   "language": "python",
   "name": "python3"
  },
  "language_info": {
   "codemirror_mode": {
    "name": "ipython",
    "version": 3
   },
   "file_extension": ".py",
   "mimetype": "text/x-python",
   "name": "python",
   "nbconvert_exporter": "python",
   "pygments_lexer": "ipython3",
   "version": "3.10.11"
  },
  "orig_nbformat": 4
 },
 "nbformat": 4,
 "nbformat_minor": 2
}
