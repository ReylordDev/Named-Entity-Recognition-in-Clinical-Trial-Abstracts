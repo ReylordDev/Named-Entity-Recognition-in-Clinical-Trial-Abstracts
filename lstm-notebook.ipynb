{
 "cells": [
  {
   "cell_type": "markdown",
   "metadata": {},
   "source": [
    "# Neural Baseline for NER with LSTM\n",
    "\n",
    "This notebook runs the `lstm.py` script for training a neural baseline model for named entity recognition using LSTM.\n"
   ]
  },
  {
   "cell_type": "code",
   "execution_count": null,
   "metadata": {},
   "outputs": [],
   "source": [
    "%pip install wandb\n",
    "import wandb\n",
    "wandb.login()"
   ]
  },
  {
   "cell_type": "code",
   "execution_count": null,
   "metadata": {},
   "outputs": [],
   "source": [
    "from google.colab import drive\n",
    "drive.mount('/content/drive')"
   ]
  },
  {
   "cell_type": "code",
   "execution_count": null,
   "metadata": {},
   "outputs": [],
   "source": [
    "train_path = \"/content/drive/Othercomputers/Mein Computer/dl-nlp_project_named-entity-recognition/data/test.json\"\n",
    "test_path = \"/content/drive/Othercomputers/Mein Computer/dl-nlp_project_named-entity-recognition/data/train.json\"\n",
    "%run lstm.py"
   ]
  }
 ],
 "metadata": {
  "language_info": {
   "name": "python"
  },
  "orig_nbformat": 4
 },
 "nbformat": 4,
 "nbformat_minor": 2
}
